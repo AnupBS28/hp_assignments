{
  "nbformat": 4,
  "nbformat_minor": 0,
  "metadata": {
    "colab": {
      "name": "cuda_exercise1.ipynb",
      "provenance": [],
      "collapsed_sections": []
    },
    "kernelspec": {
      "name": "python3",
      "display_name": "Python 3"
    },
    "accelerator": "GPU"
  },
  "cells": [
    {
      "cell_type": "code",
      "metadata": {
        "id": "qehsWej3-te7",
        "colab_type": "code",
        "colab": {}
      },
      "source": [
        "!apt update -qq;\n",
        "!wget https://developer.nvidia.com/compute/cuda/8.0/Prod2/local_installers/cuda-repo-ubuntu1604-8-0-local-ga2_8.0.61-1_amd64-deb;\n",
        "!dpkg -i cuda-repo-ubuntu1604-8-0-local-ga2_8.0.61-1_amd64-deb;\n",
        "!apt-key add /var/cuda-repo-8-0-local-ga2/7fa2af80.pub;\n",
        "!apt-get update -qq;\n",
        "!apt-get install cuda gcc-4.9 g++-4.9 -y -qq;\n",
        "!ln -s /usr/bin/gcc-5 /usr/local/cuda/bin/gcc;\n",
        "!ln -s /usr/bin/g++-5 /usr/local/cuda/bin/g++;\n",
        "!apt install cuda-8.0;"
      ],
      "execution_count": 0,
      "outputs": []
    },
    {
      "cell_type": "code",
      "metadata": {
        "id": "Y_4RtCvCAbOt",
        "colab_type": "code",
        "colab": {}
      },
      "source": [
        "!/usr/local/cuda/bin/nvcc --version"
      ],
      "execution_count": 0,
      "outputs": []
    },
    {
      "cell_type": "code",
      "metadata": {
        "id": "3TTlhNbOAhpj",
        "colab_type": "code",
        "colab": {}
      },
      "source": [
        "!pip install git+git://github.com/andreinechaev/nvcc4jupyter.git"
      ],
      "execution_count": 0,
      "outputs": []
    },
    {
      "cell_type": "code",
      "metadata": {
        "id": "0f6hqOLSAoq_",
        "colab_type": "code",
        "colab": {}
      },
      "source": [
        "%load_ext nvcc_plugin"
      ],
      "execution_count": 0,
      "outputs": []
    },
    {
      "cell_type": "code",
      "metadata": {
        "id": "z-guqamGKDWn",
        "colab_type": "code",
        "colab": {
          "base_uri": "https://localhost:8080/",
          "height": 52
        },
        "outputId": "8fff0fd3-c40c-470e-b112-073450f16baa"
      },
      "source": [
        "%%cu\n",
        "#include <iostream>\n",
        "int main() {\n",
        "    std::cout << \"Hello world\\n\";\n",
        "    return 0;\n",
        "}"
      ],
      "execution_count": 6,
      "outputs": [
        {
          "output_type": "stream",
          "text": [
            "Hello world\n",
            "\n"
          ],
          "name": "stdout"
        }
      ]
    },
    {
      "cell_type": "code",
      "metadata": {
        "id": "ICLRiYPpAtSL",
        "colab_type": "code",
        "colab": {}
      },
      "source": [
        "%%cu\n",
        "#include \"reference_calc.cpp\"\n",
        "#include \"utils.h\"\n",
        "#include <stdio.h>\n",
        "\n",
        "__global__\n",
        "void rgba_to_greyscale(const uchar4* const rgbaImg,unsigned char* const greyImg,int numRows, int numCols)\n",
        "{\n",
        "  \n",
        "      int indxx = threadIdx.x;  \n",
        "      int indxy = threadIdx.y;\n",
        "      int b_indxx = blockIdx.x;\n",
        "      int b_indxy = blockIdx.y;\n",
        "      \n",
        "      int b_dimx = blockDim.x;\n",
        "      int b_dimy = blockDim.y; \n",
        "      int g_dimx = gridDim.x;\n",
        "      int g_dimy = gridDim.y;\n",
        "      \n",
        "      int realx_pos = b_dimx * b_indxx + indxx;\n",
        "      int realy_pos = b_dimy * b_indxy + indxy;\n",
        "          \n",
        "      int off =  realy_pos * (b_dimx * g_dimx) + realx_pos;\n",
        "      \n",
        "      uchar4 rgba = rgbaImg[off]; \n",
        "      float channelSum = .299f * rgba.x + .587f * rgba.y + .114f * rgba.z;\n",
        "      greyImg[off] = channelSum; \n",
        "    \n",
        "}\n",
        "\n",
        "void convert_to_greyscale(const uchar4 * const h_rgbaImg, uchar4 * const d_rgbaImg, unsigned char* const d_greyImg, size_t numRows, size_t numCols)\n",
        "{\n",
        "  \n",
        "  const dim3 blockSize(numRows/16+1, numCols/16+1, 1); \n",
        "  const dim3 gridSize( 16, 16, 1);\n",
        "  rgba_to_greyscale<<<gridSize, blockSize>>>(d_rgbaImg, d_greyImg, numRows, numCols);\n",
        "  \n",
        "  cudaDeviceSynchronize(); \n",
        "  checkCudaErrors(cudaGetLastError());\n",
        "}\n"
      ],
      "execution_count": 0,
      "outputs": []
    }
  ]
}