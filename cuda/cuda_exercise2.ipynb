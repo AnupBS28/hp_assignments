{
  "nbformat": 4,
  "nbformat_minor": 0,
  "metadata": {
    "colab": {
      "name": "cuda_exercise2.ipynb",
      "provenance": [],
      "collapsed_sections": []
    },
    "kernelspec": {
      "name": "python3",
      "display_name": "Python 3"
    }
  },
  "cells": [
    {
      "cell_type": "code",
      "metadata": {
        "id": "vvTh0iBUSjO5",
        "colab_type": "code",
        "colab": {}
      },
      "source": [
        "!apt update -qq;\n",
        "!wget https://developer.nvidia.com/compute/cuda/8.0/Prod2/local_installers/cuda-repo-ubuntu1604-8-0-local-ga2_8.0.61-1_amd64-deb;\n",
        "!dpkg -i cuda-repo-ubuntu1604-8-0-local-ga2_8.0.61-1_amd64-deb;\n",
        "!apt-key add /var/cuda-repo-8-0-local-ga2/7fa2af80.pub;\n",
        "!apt-get update -qq;\n",
        "!apt-get install cuda gcc-4.9 g++-4.9 -y -qq;\n",
        "!ln -s /usr/bin/gcc-5 /usr/local/cuda/bin/gcc;\n",
        "!ln -s /usr/bin/g++-5 /usr/local/cuda/bin/g++;\n",
        "!apt install cuda-8.0;"
      ],
      "execution_count": 0,
      "outputs": []
    },
    {
      "cell_type": "code",
      "metadata": {
        "id": "8eSKNTDmTA7_",
        "colab_type": "code",
        "colab": {
          "base_uri": "https://localhost:8080/",
          "height": 86
        },
        "outputId": "f9b69db7-67bd-4786-c921-eee068a55737"
      },
      "source": [
        "!/usr/local/cuda/bin/nvcc --version"
      ],
      "execution_count": 3,
      "outputs": [
        {
          "output_type": "stream",
          "text": [
            "nvcc: NVIDIA (R) Cuda compiler driver\n",
            "Copyright (c) 2005-2016 NVIDIA Corporation\n",
            "Built on Tue_Jan_10_13:22:03_CST_2017\n",
            "Cuda compilation tools, release 8.0, V8.0.61\n"
          ],
          "name": "stdout"
        }
      ]
    },
    {
      "cell_type": "code",
      "metadata": {
        "id": "O5t60IJfTCTe",
        "colab_type": "code",
        "colab": {
          "base_uri": "https://localhost:8080/",
          "height": 191
        },
        "outputId": "9b61cc08-df5f-401b-bb53-8e154b34a0bf"
      },
      "source": [
        "!pip install git+git://github.com/andreinechaev/nvcc4jupyter.git"
      ],
      "execution_count": 4,
      "outputs": [
        {
          "output_type": "stream",
          "text": [
            "Collecting git+git://github.com/andreinechaev/nvcc4jupyter.git\n",
            "  Cloning git://github.com/andreinechaev/nvcc4jupyter.git to /tmp/pip-req-build-vskeog2_\n",
            "  Running command git clone -q git://github.com/andreinechaev/nvcc4jupyter.git /tmp/pip-req-build-vskeog2_\n",
            "Building wheels for collected packages: NVCCPlugin\n",
            "  Building wheel for NVCCPlugin (setup.py) ... \u001b[?25l\u001b[?25hdone\n",
            "  Created wheel for NVCCPlugin: filename=NVCCPlugin-0.0.2-cp36-none-any.whl size=4307 sha256=3d2c688b2317195f368c85143d037c6e3027479552bdc57ff6c7a7cac859f286\n",
            "  Stored in directory: /tmp/pip-ephem-wheel-cache-au93du_a/wheels/10/c2/05/ca241da37bff77d60d31a9174f988109c61ba989e4d4650516\n",
            "Successfully built NVCCPlugin\n",
            "Installing collected packages: NVCCPlugin\n",
            "Successfully installed NVCCPlugin-0.0.2\n"
          ],
          "name": "stdout"
        }
      ]
    },
    {
      "cell_type": "code",
      "metadata": {
        "id": "rfOqpKvRTEeF",
        "colab_type": "code",
        "colab": {
          "base_uri": "https://localhost:8080/",
          "height": 52
        },
        "outputId": "28500a73-44c1-4c4a-aaa8-9f64c15dab66"
      },
      "source": [
        "%load_ext nvcc_plugin"
      ],
      "execution_count": 5,
      "outputs": [
        {
          "output_type": "stream",
          "text": [
            "created output directory at /content/src\n",
            "Out bin /content/result.out\n"
          ],
          "name": "stdout"
        }
      ]
    },
    {
      "cell_type": "code",
      "metadata": {
        "id": "QumIOOZ_TIeW",
        "colab_type": "code",
        "colab": {}
      },
      "source": [
        "%%cu\n",
        "#include \"reference_calc.cpp\"\n",
        "#include \"utils.h\"\n",
        "\n",
        "__global__\n",
        "void gaussian_blur(const unsigned char* const inputChannel,\n",
        "                   unsigned char* const outputChannel,\n",
        "                   int numRows, int numCols,\n",
        "                   const float* const filter, const int filterWidth)\n",
        "{\n",
        "\n",
        "  const int2 thread_2D_pos = make_int2( blockIdx.x * blockDim.x + threadIdx.x,\n",
        "                                        blockIdx.y * blockDim.y + threadIdx.y);\n",
        "\n",
        "  const int thread_1D_pos = thread_2D_pos.y * numCols + thread_2D_pos.x;\n",
        "\n",
        "  if (thread_2D_pos.x >= numCols || thread_2D_pos.y >= numRows)\n",
        "    return;\n",
        "\n",
        "  float result = 0.f;\n",
        "  //For every value in the filter around the pixel (thread_2D_pos.x, thread_2D_pos.y)\n",
        "  for (int filter_r = -filterWidth/2; filter_r <= filterWidth/2; ++filter_r) {\n",
        "    for (int filter_c = -filterWidth/2; filter_c <= filterWidth/2; ++filter_c) {\n",
        "      \n",
        "      int image_r = min(max(thread_2D_pos.y + filter_r, 0), static_cast<int>(numRows - 1));\n",
        "      int image_c = min(max(thread_2D_pos.x + filter_c, 0), static_cast<int>(numCols - 1));\n",
        "\n",
        "      float image_value = static_cast<float>(inputChannel[image_r * numCols + image_c]);\n",
        "      float filter_value = filter[(filter_r + filterWidth/2) * filterWidth + filter_c + filterWidth/2];\n",
        "\n",
        "      result += image_value * filter_value;\n",
        "    }\n",
        "  }\n",
        "\n",
        "  outputChannel[thread_1D_pos] = result;\n",
        "}\n",
        "\n",
        "\n",
        "__global__\n",
        "void separateChannels(const uchar4* const inputImageRGBA,\n",
        "                      int numRows,\n",
        "                      int numCols,\n",
        "                      unsigned char* const redChannel,\n",
        "                      unsigned char* const greenChannel,\n",
        "                      unsigned char* const blueChannel)\n",
        "{\n",
        "  \n",
        "  const int2 thread_2D_pos = make_int2( blockIdx.x * blockDim.x + threadIdx.x,\n",
        "                                        blockIdx.y * blockDim.y + threadIdx.y);\n",
        "\n",
        "  const int thread_1D_pos = thread_2D_pos.y * numCols + thread_2D_pos.x;\n",
        "\n",
        "  if (thread_2D_pos.x >= numCols || thread_2D_pos.y >= numRows)\n",
        "    return;\n",
        "\n",
        "  redChannel[thread_1D_pos] = inputImageRGBA[thread_1D_pos].x;\n",
        "  greenChannel[thread_1D_pos] = inputImageRGBA[thread_1D_pos].y;\n",
        "  blueChannel[thread_1D_pos] = inputImageRGBA[thread_1D_pos].z;\n",
        "\n",
        "}\n",
        "\n",
        "__global__\n",
        "void recombineChannels(const unsigned char* const redChannel,\n",
        "                       const unsigned char* const greenChannel,\n",
        "                       const unsigned char* const blueChannel,\n",
        "                       uchar4* const outputImageRGBA,\n",
        "                       int numRows,\n",
        "                       int numCols)\n",
        "{\n",
        "  const int2 thread_2D_pos = make_int2( blockIdx.x * blockDim.x + threadIdx.x,\n",
        "                                        blockIdx.y * blockDim.y + threadIdx.y);\n",
        "\n",
        "  const int thread_1D_pos = thread_2D_pos.y * numCols + thread_2D_pos.x;\n",
        "\n",
        " \n",
        "  if (thread_2D_pos.x >= numCols || thread_2D_pos.y >= numRows)\n",
        "    return;\n",
        "\n",
        "  unsigned char red   = redChannel[thread_1D_pos];\n",
        "  unsigned char green = greenChannel[thread_1D_pos];\n",
        "  unsigned char blue  = blueChannel[thread_1D_pos];\n",
        "\n",
        "  uchar4 outputPixel = make_uchar4(red, green, blue, 255);\n",
        "\n",
        "  outputImageRGBA[thread_1D_pos] = outputPixel;\n",
        "}\n",
        "\n",
        "unsigned char *d_red, *d_green, *d_blue;\n",
        "float         *d_filter;\n",
        "\n",
        "void allocateMemoryAndCopyToGPU(const size_t numRowsImage, const size_t numColsImage,\n",
        "                                const float* const h_filter, const size_t filterWidth)\n",
        "{\n",
        "\n",
        "  checkCudaErrors(cudaMalloc(&d_red,   sizeof(unsigned char) * numRowsImage * numColsImage));\n",
        "  checkCudaErrors(cudaMalloc(&d_green, sizeof(unsigned char) * numRowsImage * numColsImage));\n",
        "  checkCudaErrors(cudaMalloc(&d_blue,  sizeof(unsigned char) * numRowsImage * numColsImage));\n",
        "\n",
        "  \n",
        "  int num_filter_bytes = sizeof(float) * filterWidth * filterWidth;\n",
        "  checkCudaErrors(cudaMalloc(&d_filter, num_filter_bytes));\n",
        "\n",
        "\n",
        "  checkCudaErrors(cudaMemcpy(d_filter, h_filter, num_filter_bytes, cudaMemcpyHostToDevice));\n",
        "\n",
        "}\n",
        "\n",
        "void your_gaussian_blur(const uchar4 * const h_inputImageRGBA, uchar4 * const d_inputImageRGBA,\n",
        "                        uchar4* const d_outputImageRGBA, const size_t numRows, const size_t numCols,\n",
        "                        unsigned char *d_redBlurred, \n",
        "                        unsigned char *d_greenBlurred, \n",
        "                        unsigned char *d_blueBlurred,\n",
        "                        const int filterWidth)\n",
        "{\n",
        "  const dim3 blockSize(1, 1, 1);\n",
        "\n",
        "  const dim3 gridSize(numCols, numRows, 1);\n",
        "  separateChannels<<<gridSize, blockSize>>>(d_inputImageRGBA,\n",
        "                                            numRows,\n",
        "                                            numCols,\n",
        "                                            d_red,\n",
        "                                            d_green,\n",
        "                                            d_blue);\n",
        "\n",
        "  cudaDeviceSynchronize(); checkCudaErrors(cudaGetLastError());\n",
        "\n",
        "  gaussian_blur<<<gridSize, blockSize>>>(d_red,\n",
        "                                         d_redBlurred,\n",
        "                                         numRows,\n",
        "                                         numCols,\n",
        "                                         d_filter,\n",
        "                                         filterWidth);\n",
        "  gaussian_blur<<<gridSize, blockSize>>>(d_green,\n",
        "                                         d_greenBlurred,\n",
        "                                         numRows,\n",
        "                                         numCols,\n",
        "                                         d_filter,\n",
        "                                         filterWidth);\n",
        "  gaussian_blur<<<gridSize, blockSize>>>(d_blue,\n",
        "                                         d_blueBlurred,\n",
        "                                         numRows,\n",
        "                                         numCols,\n",
        "                                         d_filter,\n",
        "                                         filterWidth);\n",
        "  recombineChannels<<<gridSize, blockSize>>>(d_redBlurred,\n",
        "                                             d_greenBlurred,\n",
        "                                             d_blueBlurred,\n",
        "                                             d_outputImageRGBA,\n",
        "                                             numRows,\n",
        "                                             numCols);\n",
        "  cudaDeviceSynchronize(); checkCudaErrors(cudaGetLastError());\n",
        "\n",
        "}\n",
        "\n",
        "void cleanup() {\n",
        "  checkCudaErrors(cudaFree(d_red));\n",
        "  checkCudaErrors(cudaFree(d_green));\n",
        "  checkCudaErrors(cudaFree(d_blue));\n",
        "  checkCudaErrors(cudaFree(d_filter));\n",
        "}"
      ],
      "execution_count": 0,
      "outputs": []
    }
  ]
}